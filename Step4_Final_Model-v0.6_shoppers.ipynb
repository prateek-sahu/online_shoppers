{
 "cells": [
  {
   "cell_type": "markdown",
   "metadata": {},
   "source": [
    "## Objective : We will measure performance of final model ."
   ]
  },
  {
   "cell_type": "code",
   "execution_count": 2,
   "metadata": {},
   "outputs": [],
   "source": [
    "#!pip install  scikit-plot"
   ]
  },
  {
   "cell_type": "code",
   "execution_count": 3,
   "metadata": {},
   "outputs": [],
   "source": [
    "#import libraries here; add more as necessary.\n",
    "import numpy as np\n",
    "import pandas as pd\n",
    "import matplotlib.pyplot as plt\n",
    "import time\n",
    "import sidetable\n",
    "import warnings\n",
    "import joblib\n",
    "warnings.filterwarnings(\"ignore\")\n",
    "\n",
    "#Models\n",
    "from xgboost import XGBClassifier\n",
    "\n",
    "\n",
    "from imblearn.over_sampling import SMOTE\n",
    "from sklearn.model_selection import GridSearchCV\n",
    "from sklearn.preprocessing import MinMaxScaler\n",
    "from sklearn.metrics import accuracy_score, confusion_matrix\n",
    "from pandas import ExcelWriter\n",
    "from openpyxl import load_workbook\n",
    "\n",
    "%load_ext autoreload\n",
    "%autoreload 2"
   ]
  },
  {
   "cell_type": "markdown",
   "metadata": {},
   "source": [
    "## Load Data"
   ]
  },
  {
   "cell_type": "code",
   "execution_count": 4,
   "metadata": {},
   "outputs": [],
   "source": [
    "X_train = pd.read_csv(r'C:\\Users\\psahu\\Documents\\My_projects\\online_shoppers\\data\\Transformed_X_train_shoppersData.csv')\n",
    "y_train = pd.read_csv(r'C:\\Users\\psahu\\Documents\\My_projects\\online_shoppers\\data\\Transformed_y_train.csv')"
   ]
  },
  {
   "cell_type": "code",
   "execution_count": 5,
   "metadata": {},
   "outputs": [],
   "source": [
    "X_test = pd.read_csv(r'C:\\Users\\psahu\\Documents\\My_projects\\online_shoppers\\data\\Transformed_X_test_shoppersData.csv')\n",
    "y_test = pd.read_csv(r'C:\\Users\\psahu\\Documents\\My_projects\\online_shoppers\\data\\Transformed_y_test.csv')"
   ]
  },
  {
   "cell_type": "code",
   "execution_count": 6,
   "metadata": {},
   "outputs": [],
   "source": [
    "X_val = pd.read_csv(r'C:\\Users\\psahu\\Documents\\My_projects\\online_shoppers\\data\\Transformed_X_val_shoppersData.csv')\n",
    "y_val = pd.read_csv(r'C:\\Users\\psahu\\Documents\\My_projects\\online_shoppers\\data\\Transformed_y_val.csv')"
   ]
  },
  {
   "cell_type": "code",
   "execution_count": 7,
   "metadata": {},
   "outputs": [
    {
     "name": "stdout",
     "output_type": "stream",
     "text": [
      "Functions_File is successfully imported.\n"
     ]
    }
   ],
   "source": [
    "import Functions_File as my_ff"
   ]
  },
  {
   "cell_type": "markdown",
   "metadata": {},
   "source": [
    "# Final Model"
   ]
  },
  {
   "cell_type": "code",
   "execution_count": 8,
   "metadata": {},
   "outputs": [
    {
     "name": "stdout",
     "output_type": "stream",
     "text": [
      "(7398, 68) (7398, 1)\n"
     ]
    }
   ],
   "source": [
    "print(X_train.shape ,y_train.shape)"
   ]
  },
  {
   "cell_type": "code",
   "execution_count": 9,
   "metadata": {},
   "outputs": [
    {
     "name": "stdout",
     "output_type": "stream",
     "text": [
      "(2466, 68) (2466, 1)\n"
     ]
    }
   ],
   "source": [
    "print(X_test.shape ,y_test.shape)"
   ]
  },
  {
   "cell_type": "code",
   "execution_count": 10,
   "metadata": {},
   "outputs": [
    {
     "name": "stdout",
     "output_type": "stream",
     "text": [
      "(2466, 68) (2466, 1)\n"
     ]
    }
   ],
   "source": [
    "print(X_val.shape ,y_val.shape)"
   ]
  },
  {
   "cell_type": "markdown",
   "metadata": {},
   "source": [
    "## Before Sampling"
   ]
  },
  {
   "cell_type": "code",
   "execution_count": 30,
   "metadata": {},
   "outputs": [
    {
     "data": {
      "text/plain": [
       "Revenue\n",
       "0          6271\n",
       "1          1127\n",
       "dtype: int64"
      ]
     },
     "execution_count": 30,
     "metadata": {},
     "output_type": "execute_result"
    }
   ],
   "source": [
    "y_train.value_counts()"
   ]
  },
  {
   "cell_type": "code",
   "execution_count": 31,
   "metadata": {},
   "outputs": [],
   "source": [
    "#USing SMOTE for oversampling of Minority class\n",
    "smt = SMOTE(sampling_strategy = 1)\n",
    "X_train, y_train = smt.fit_sample(X_train, y_train)"
   ]
  },
  {
   "cell_type": "markdown",
   "metadata": {},
   "source": [
    "## After Sampling"
   ]
  },
  {
   "cell_type": "code",
   "execution_count": 32,
   "metadata": {},
   "outputs": [
    {
     "data": {
      "text/plain": [
       "Revenue\n",
       "1          6271\n",
       "0          6271\n",
       "dtype: int64"
      ]
     },
     "execution_count": 32,
     "metadata": {},
     "output_type": "execute_result"
    }
   ],
   "source": [
    "y_train.value_counts()"
   ]
  },
  {
   "cell_type": "markdown",
   "metadata": {},
   "source": [
    "## XGBoost"
   ]
  },
  {
   "cell_type": "raw",
   "metadata": {},
   "source": [
    "Outcome of Hyper-parameter Tuning\n",
    "XGBClassifier(colsample_bytree=0.7, gamma=0.0,\n",
    "                               learning_rate=0.05, max_depth=4,\n",
    "                               min_child_weight=3, random_state=50)"
   ]
  },
  {
   "cell_type": "code",
   "execution_count": 49,
   "metadata": {},
   "outputs": [],
   "source": [
    "model =  XGBClassifier(colsample_bytree=0.7, gamma=0.0,\n",
    "                               learning_rate=0.05, max_depth=4,\n",
    "                               min_child_weight=3, random_state=50)"
   ]
  },
  {
   "cell_type": "code",
   "execution_count": 51,
   "metadata": {},
   "outputs": [
    {
     "data": {
      "text/plain": [
       "XGBClassifier(colsample_bytree=0.7, gamma=0.0, learning_rate=0.05, max_depth=4,\n",
       "              min_child_weight=3, random_state=50)"
      ]
     },
     "execution_count": 51,
     "metadata": {},
     "output_type": "execute_result"
    }
   ],
   "source": [
    "model.fit(X_train,y_train)"
   ]
  },
  {
   "cell_type": "markdown",
   "metadata": {},
   "source": [
    "## Prediction on test set.  "
   ]
  },
  {
   "cell_type": "code",
   "execution_count": 52,
   "metadata": {},
   "outputs": [
    {
     "name": "stdout",
     "output_type": "stream",
     "text": [
      "Accuracy: 89.13219789132198\n"
     ]
    }
   ],
   "source": [
    "y_pred_test = model.predict(X_test)\n",
    "print(\"Accuracy:\" , accuracy_score(y_test,y_pred_test)*100)"
   ]
  },
  {
   "cell_type": "code",
   "execution_count": 53,
   "metadata": {},
   "outputs": [],
   "source": [
    "y_pred_test_prob=model.predict_proba(X_test)"
   ]
  },
  {
   "cell_type": "code",
   "execution_count": 54,
   "metadata": {},
   "outputs": [
    {
     "data": {
      "text/plain": [
       "array([[1910,  174],\n",
       "       [  94,  288]], dtype=int64)"
      ]
     },
     "execution_count": 54,
     "metadata": {},
     "output_type": "execute_result"
    }
   ],
   "source": [
    "confusion_matrix(y_test, y_pred_test)"
   ]
  },
  {
   "cell_type": "code",
   "execution_count": 55,
   "metadata": {},
   "outputs": [
    {
     "data": {
      "text/plain": [
       "0.7539267015706806"
      ]
     },
     "execution_count": 55,
     "metadata": {},
     "output_type": "execute_result"
    }
   ],
   "source": [
    "from sklearn.metrics import recall_score\n",
    "recall_score(y_test, y_pred_test,  average='binary')"
   ]
  },
  {
   "cell_type": "code",
   "execution_count": 56,
   "metadata": {},
   "outputs": [
    {
     "name": "stdout",
     "output_type": "stream",
     "text": [
      "              precision    recall  f1-score   support\n",
      "\n",
      "           0       0.95      0.92      0.93      2084\n",
      "           1       0.62      0.75      0.68       382\n",
      "\n",
      "    accuracy                           0.89      2466\n",
      "   macro avg       0.79      0.84      0.81      2466\n",
      "weighted avg       0.90      0.89      0.90      2466\n",
      "\n"
     ]
    }
   ],
   "source": [
    "#Compute precision, recall, F-measure and support\n",
    "\n",
    "from sklearn.metrics import classification_report\n",
    "print(classification_report(y_test, y_pred_test))"
   ]
  },
  {
   "cell_type": "markdown",
   "metadata": {},
   "source": [
    "##  Prediction on validation set "
   ]
  },
  {
   "cell_type": "code",
   "execution_count": 57,
   "metadata": {},
   "outputs": [
    {
     "name": "stdout",
     "output_type": "stream",
     "text": [
      "Accuracy: 88.84833738848337\n"
     ]
    }
   ],
   "source": [
    "y_pred_val = model.predict(X_val)\n",
    "print(\"Accuracy:\" , accuracy_score(y_val,y_pred_val)*100)"
   ]
  },
  {
   "cell_type": "code",
   "execution_count": 58,
   "metadata": {},
   "outputs": [
    {
     "data": {
      "text/plain": [
       "0.7393483709273183"
      ]
     },
     "execution_count": 58,
     "metadata": {},
     "output_type": "execute_result"
    }
   ],
   "source": [
    "recall_score_val=recall_score(y_val,y_pred_val,  average='binary')\n",
    "recall_score_val"
   ]
  },
  {
   "cell_type": "code",
   "execution_count": 59,
   "metadata": {},
   "outputs": [],
   "source": [
    "y_pred_val_proba =model.predict_proba(X_val)"
   ]
  },
  {
   "cell_type": "code",
   "execution_count": 60,
   "metadata": {},
   "outputs": [
    {
     "data": {
      "text/plain": [
       "array([[1896,  171],\n",
       "       [ 104,  295]], dtype=int64)"
      ]
     },
     "execution_count": 60,
     "metadata": {},
     "output_type": "execute_result"
    }
   ],
   "source": [
    "#\n",
    "X_val_probs = model.predict_proba(X_val)[:,1]\n",
    "#%% Confusion metrics - validation set\n",
    "confusion_matrix(y_val, y_pred_val)"
   ]
  },
  {
   "cell_type": "code",
   "execution_count": 61,
   "metadata": {},
   "outputs": [
    {
     "name": "stdout",
     "output_type": "stream",
     "text": [
      "              precision    recall  f1-score   support\n",
      "\n",
      "           0       0.95      0.92      0.93      2067\n",
      "           1       0.63      0.74      0.68       399\n",
      "\n",
      "    accuracy                           0.89      2466\n",
      "   macro avg       0.79      0.83      0.81      2466\n",
      "weighted avg       0.90      0.89      0.89      2466\n",
      "\n"
     ]
    }
   ],
   "source": [
    "#%% Compute precision, recall, F-measure and support\n",
    "\n",
    "from sklearn.metrics import classification_report\n",
    "print(classification_report(y_val, y_pred_val))"
   ]
  },
  {
   "cell_type": "markdown",
   "metadata": {},
   "source": [
    "## Feature Importance"
   ]
  },
  {
   "cell_type": "code",
   "execution_count": 62,
   "metadata": {},
   "outputs": [],
   "source": [
    "xgb_feat_imp_cover = model.get_booster().get_score(importance_type='cover')\n",
    "xgb_feat_imp_gain = model.get_booster().get_score(importance_type='gain')\n",
    "xgb_feat_imp_weight = model.get_booster().get_score(importance_type='weight')"
   ]
  },
  {
   "cell_type": "code",
   "execution_count": 63,
   "metadata": {},
   "outputs": [],
   "source": [
    "full_feat_imp = pd.DataFrame( [ xgb_feat_imp_gain , xgb_feat_imp_cover, xgb_feat_imp_weight]).T\n",
    "full_feat_imp.columns = [ 'gain' ,'cover' ,  'weight']"
   ]
  },
  {
   "cell_type": "code",
   "execution_count": 64,
   "metadata": {},
   "outputs": [],
   "source": [
    "#Sort as per 'gain'\n",
    "full_feat_imp.sort_values(\"gain\", axis = 0, ascending = False , inplace = True)"
   ]
  },
  {
   "cell_type": "code",
   "execution_count": 65,
   "metadata": {},
   "outputs": [
    {
     "data": {
      "text/html": [
       "<div>\n",
       "<style scoped>\n",
       "    .dataframe tbody tr th:only-of-type {\n",
       "        vertical-align: middle;\n",
       "    }\n",
       "\n",
       "    .dataframe tbody tr th {\n",
       "        vertical-align: top;\n",
       "    }\n",
       "\n",
       "    .dataframe thead th {\n",
       "        text-align: right;\n",
       "    }\n",
       "</style>\n",
       "<table border=\"1\" class=\"dataframe\">\n",
       "  <thead>\n",
       "    <tr style=\"text-align: right;\">\n",
       "      <th></th>\n",
       "      <th>features</th>\n",
       "      <th>gain</th>\n",
       "      <th>cover</th>\n",
       "      <th>weight</th>\n",
       "    </tr>\n",
       "  </thead>\n",
       "  <tbody>\n",
       "    <tr>\n",
       "      <th>0</th>\n",
       "      <td>PageValues</td>\n",
       "      <td>627.784797</td>\n",
       "      <td>957.683868</td>\n",
       "      <td>127.0</td>\n",
       "    </tr>\n",
       "    <tr>\n",
       "      <th>1</th>\n",
       "      <td>OperatingSystems_3</td>\n",
       "      <td>85.584044</td>\n",
       "      <td>926.996185</td>\n",
       "      <td>29.0</td>\n",
       "    </tr>\n",
       "    <tr>\n",
       "      <th>2</th>\n",
       "      <td>Month_May</td>\n",
       "      <td>77.801530</td>\n",
       "      <td>1034.404361</td>\n",
       "      <td>79.0</td>\n",
       "    </tr>\n",
       "    <tr>\n",
       "      <th>3</th>\n",
       "      <td>Month_Dec</td>\n",
       "      <td>76.295721</td>\n",
       "      <td>817.625033</td>\n",
       "      <td>55.0</td>\n",
       "    </tr>\n",
       "    <tr>\n",
       "      <th>4</th>\n",
       "      <td>TrafficType_3</td>\n",
       "      <td>65.803403</td>\n",
       "      <td>1064.477347</td>\n",
       "      <td>21.0</td>\n",
       "    </tr>\n",
       "    <tr>\n",
       "      <th>5</th>\n",
       "      <td>Month_Mar</td>\n",
       "      <td>60.987730</td>\n",
       "      <td>810.174129</td>\n",
       "      <td>65.0</td>\n",
       "    </tr>\n",
       "    <tr>\n",
       "      <th>6</th>\n",
       "      <td>OperatingSystems_4</td>\n",
       "      <td>58.052595</td>\n",
       "      <td>529.736290</td>\n",
       "      <td>4.0</td>\n",
       "    </tr>\n",
       "    <tr>\n",
       "      <th>7</th>\n",
       "      <td>VisitorType_Returning_Visitor</td>\n",
       "      <td>57.353001</td>\n",
       "      <td>801.156855</td>\n",
       "      <td>70.0</td>\n",
       "    </tr>\n",
       "    <tr>\n",
       "      <th>8</th>\n",
       "      <td>OperatingSystems_2</td>\n",
       "      <td>54.827707</td>\n",
       "      <td>598.363151</td>\n",
       "      <td>31.0</td>\n",
       "    </tr>\n",
       "    <tr>\n",
       "      <th>9</th>\n",
       "      <td>Region_2</td>\n",
       "      <td>49.646236</td>\n",
       "      <td>842.753483</td>\n",
       "      <td>14.0</td>\n",
       "    </tr>\n",
       "    <tr>\n",
       "      <th>10</th>\n",
       "      <td>ExitRates</td>\n",
       "      <td>46.160963</td>\n",
       "      <td>357.658247</td>\n",
       "      <td>97.0</td>\n",
       "    </tr>\n",
       "    <tr>\n",
       "      <th>11</th>\n",
       "      <td>Region_3</td>\n",
       "      <td>42.342064</td>\n",
       "      <td>768.886627</td>\n",
       "      <td>46.0</td>\n",
       "    </tr>\n",
       "    <tr>\n",
       "      <th>12</th>\n",
       "      <td>Browser_2</td>\n",
       "      <td>38.411330</td>\n",
       "      <td>459.674824</td>\n",
       "      <td>9.0</td>\n",
       "    </tr>\n",
       "    <tr>\n",
       "      <th>13</th>\n",
       "      <td>Region_4</td>\n",
       "      <td>34.905478</td>\n",
       "      <td>787.284675</td>\n",
       "      <td>11.0</td>\n",
       "    </tr>\n",
       "    <tr>\n",
       "      <th>14</th>\n",
       "      <td>Month_Oct</td>\n",
       "      <td>34.344488</td>\n",
       "      <td>625.480248</td>\n",
       "      <td>19.0</td>\n",
       "    </tr>\n",
       "    <tr>\n",
       "      <th>15</th>\n",
       "      <td>TrafficType_4</td>\n",
       "      <td>33.461183</td>\n",
       "      <td>446.488573</td>\n",
       "      <td>14.0</td>\n",
       "    </tr>\n",
       "    <tr>\n",
       "      <th>16</th>\n",
       "      <td>Month_Sep</td>\n",
       "      <td>33.366334</td>\n",
       "      <td>683.473685</td>\n",
       "      <td>14.0</td>\n",
       "    </tr>\n",
       "    <tr>\n",
       "      <th>17</th>\n",
       "      <td>Month_Jul</td>\n",
       "      <td>32.732611</td>\n",
       "      <td>720.657840</td>\n",
       "      <td>10.0</td>\n",
       "    </tr>\n",
       "    <tr>\n",
       "      <th>18</th>\n",
       "      <td>TrafficType_2</td>\n",
       "      <td>31.917719</td>\n",
       "      <td>517.743632</td>\n",
       "      <td>28.0</td>\n",
       "    </tr>\n",
       "    <tr>\n",
       "      <th>19</th>\n",
       "      <td>TrafficType_13</td>\n",
       "      <td>27.491521</td>\n",
       "      <td>568.002254</td>\n",
       "      <td>16.0</td>\n",
       "    </tr>\n",
       "    <tr>\n",
       "      <th>20</th>\n",
       "      <td>Region_7</td>\n",
       "      <td>26.937248</td>\n",
       "      <td>621.259434</td>\n",
       "      <td>7.0</td>\n",
       "    </tr>\n",
       "    <tr>\n",
       "      <th>21</th>\n",
       "      <td>Administrative_Duration</td>\n",
       "      <td>26.484325</td>\n",
       "      <td>269.844575</td>\n",
       "      <td>154.0</td>\n",
       "    </tr>\n",
       "    <tr>\n",
       "      <th>22</th>\n",
       "      <td>Region_6</td>\n",
       "      <td>24.180071</td>\n",
       "      <td>483.093035</td>\n",
       "      <td>6.0</td>\n",
       "    </tr>\n",
       "    <tr>\n",
       "      <th>23</th>\n",
       "      <td>Month_June</td>\n",
       "      <td>22.835138</td>\n",
       "      <td>687.498368</td>\n",
       "      <td>7.0</td>\n",
       "    </tr>\n",
       "    <tr>\n",
       "      <th>24</th>\n",
       "      <td>Browser_4</td>\n",
       "      <td>22.760754</td>\n",
       "      <td>402.870355</td>\n",
       "      <td>8.0</td>\n",
       "    </tr>\n",
       "    <tr>\n",
       "      <th>25</th>\n",
       "      <td>Month_Nov</td>\n",
       "      <td>22.028441</td>\n",
       "      <td>365.464813</td>\n",
       "      <td>24.0</td>\n",
       "    </tr>\n",
       "    <tr>\n",
       "      <th>26</th>\n",
       "      <td>ProductRelated_Duration</td>\n",
       "      <td>19.430691</td>\n",
       "      <td>237.812995</td>\n",
       "      <td>160.0</td>\n",
       "    </tr>\n",
       "    <tr>\n",
       "      <th>27</th>\n",
       "      <td>Region_9</td>\n",
       "      <td>18.896447</td>\n",
       "      <td>420.681576</td>\n",
       "      <td>9.0</td>\n",
       "    </tr>\n",
       "    <tr>\n",
       "      <th>28</th>\n",
       "      <td>Informational_Duration</td>\n",
       "      <td>16.273782</td>\n",
       "      <td>235.640663</td>\n",
       "      <td>50.0</td>\n",
       "    </tr>\n",
       "    <tr>\n",
       "      <th>29</th>\n",
       "      <td>Weekend_YES</td>\n",
       "      <td>14.485958</td>\n",
       "      <td>332.306320</td>\n",
       "      <td>23.0</td>\n",
       "    </tr>\n",
       "    <tr>\n",
       "      <th>30</th>\n",
       "      <td>TrafficType_11</td>\n",
       "      <td>11.440918</td>\n",
       "      <td>242.681808</td>\n",
       "      <td>1.0</td>\n",
       "    </tr>\n",
       "    <tr>\n",
       "      <th>31</th>\n",
       "      <td>TrafficType_8</td>\n",
       "      <td>6.492798</td>\n",
       "      <td>105.149813</td>\n",
       "      <td>3.0</td>\n",
       "    </tr>\n",
       "    <tr>\n",
       "      <th>32</th>\n",
       "      <td>TrafficType_6</td>\n",
       "      <td>6.139858</td>\n",
       "      <td>180.659500</td>\n",
       "      <td>1.0</td>\n",
       "    </tr>\n",
       "    <tr>\n",
       "      <th>33</th>\n",
       "      <td>TrafficType_5</td>\n",
       "      <td>5.958082</td>\n",
       "      <td>293.309156</td>\n",
       "      <td>18.0</td>\n",
       "    </tr>\n",
       "    <tr>\n",
       "      <th>34</th>\n",
       "      <td>TrafficType_10</td>\n",
       "      <td>5.532497</td>\n",
       "      <td>246.260559</td>\n",
       "      <td>2.0</td>\n",
       "    </tr>\n",
       "  </tbody>\n",
       "</table>\n",
       "</div>"
      ],
      "text/plain": [
       "                         features        gain        cover  weight\n",
       "0                      PageValues  627.784797   957.683868   127.0\n",
       "1              OperatingSystems_3   85.584044   926.996185    29.0\n",
       "2                       Month_May   77.801530  1034.404361    79.0\n",
       "3                       Month_Dec   76.295721   817.625033    55.0\n",
       "4                   TrafficType_3   65.803403  1064.477347    21.0\n",
       "5                       Month_Mar   60.987730   810.174129    65.0\n",
       "6              OperatingSystems_4   58.052595   529.736290     4.0\n",
       "7   VisitorType_Returning_Visitor   57.353001   801.156855    70.0\n",
       "8              OperatingSystems_2   54.827707   598.363151    31.0\n",
       "9                        Region_2   49.646236   842.753483    14.0\n",
       "10                      ExitRates   46.160963   357.658247    97.0\n",
       "11                       Region_3   42.342064   768.886627    46.0\n",
       "12                      Browser_2   38.411330   459.674824     9.0\n",
       "13                       Region_4   34.905478   787.284675    11.0\n",
       "14                      Month_Oct   34.344488   625.480248    19.0\n",
       "15                  TrafficType_4   33.461183   446.488573    14.0\n",
       "16                      Month_Sep   33.366334   683.473685    14.0\n",
       "17                      Month_Jul   32.732611   720.657840    10.0\n",
       "18                  TrafficType_2   31.917719   517.743632    28.0\n",
       "19                 TrafficType_13   27.491521   568.002254    16.0\n",
       "20                       Region_7   26.937248   621.259434     7.0\n",
       "21        Administrative_Duration   26.484325   269.844575   154.0\n",
       "22                       Region_6   24.180071   483.093035     6.0\n",
       "23                     Month_June   22.835138   687.498368     7.0\n",
       "24                      Browser_4   22.760754   402.870355     8.0\n",
       "25                      Month_Nov   22.028441   365.464813    24.0\n",
       "26        ProductRelated_Duration   19.430691   237.812995   160.0\n",
       "27                       Region_9   18.896447   420.681576     9.0\n",
       "28         Informational_Duration   16.273782   235.640663    50.0\n",
       "29                    Weekend_YES   14.485958   332.306320    23.0\n",
       "30                 TrafficType_11   11.440918   242.681808     1.0\n",
       "31                  TrafficType_8    6.492798   105.149813     3.0\n",
       "32                  TrafficType_6    6.139858   180.659500     1.0\n",
       "33                  TrafficType_5    5.958082   293.309156    18.0\n",
       "34                 TrafficType_10    5.532497   246.260559     2.0"
      ]
     },
     "execution_count": 65,
     "metadata": {},
     "output_type": "execute_result"
    }
   ],
   "source": [
    "full_feat_imp=full_feat_imp.reset_index().rename(columns = {'index' : 'features'})\n",
    "full_feat_imp"
   ]
  },
  {
   "cell_type": "code",
   "execution_count": null,
   "metadata": {},
   "outputs": [],
   "source": []
  }
 ],
 "metadata": {
  "hide_input": false,
  "kernelspec": {
   "display_name": "Python 3",
   "language": "python",
   "name": "python3"
  },
  "language_info": {
   "codemirror_mode": {
    "name": "ipython",
    "version": 3
   },
   "file_extension": ".py",
   "mimetype": "text/x-python",
   "name": "python",
   "nbconvert_exporter": "python",
   "pygments_lexer": "ipython3",
   "version": "3.7.4"
  },
  "toc": {
   "base_numbering": 1,
   "nav_menu": {},
   "number_sections": true,
   "sideBar": true,
   "skip_h1_title": false,
   "title_cell": "Table of Contents",
   "title_sidebar": "Contents",
   "toc_cell": false,
   "toc_position": {},
   "toc_section_display": true,
   "toc_window_display": false
  },
  "varInspector": {
   "cols": {
    "lenName": 16,
    "lenType": 16,
    "lenVar": 40
   },
   "kernels_config": {
    "python": {
     "delete_cmd_postfix": "",
     "delete_cmd_prefix": "del ",
     "library": "var_list.py",
     "varRefreshCmd": "print(var_dic_list())"
    },
    "r": {
     "delete_cmd_postfix": ") ",
     "delete_cmd_prefix": "rm(",
     "library": "var_list.r",
     "varRefreshCmd": "cat(var_dic_list()) "
    }
   },
   "types_to_exclude": [
    "module",
    "function",
    "builtin_function_or_method",
    "instance",
    "_Feature"
   ],
   "window_display": false
  }
 },
 "nbformat": 4,
 "nbformat_minor": 2
}
