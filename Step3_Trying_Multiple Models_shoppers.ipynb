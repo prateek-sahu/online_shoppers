{
 "cells": [
  {
   "cell_type": "markdown",
   "metadata": {},
   "source": [
    "### Objective : In this Notebook we will choose the best performing model out of various models and fine tune it"
   ]
  },
  {
   "cell_type": "code",
   "execution_count": 1,
   "metadata": {},
   "outputs": [],
   "source": [
    "#import libraries here; add more as necessary.\n",
    "import numpy as np\n",
    "import pandas as pd\n",
    "import matplotlib.pyplot as plt\n",
    "import time\n",
    "import math\n",
    "import warnings\n",
    "warnings.filterwarnings(\"ignore\")\n",
    "\n",
    "#Models\n",
    "from sklearn.linear_model import LogisticRegression \n",
    "from sklearn.svm import SVC\n",
    "from sklearn.neighbors import KNeighborsClassifier\n",
    "from sklearn.ensemble import RandomForestClassifier\n",
    "from sklearn.ensemble import AdaBoostClassifier\n",
    "from sklearn.ensemble import GradientBoostingClassifier\n",
    "from xgboost import XGBClassifier\n",
    "from sklearn.feature_selection import RFE , RFECV\n",
    "\n",
    "from sklearn.model_selection import GridSearchCV\n",
    "from imblearn.pipeline import Pipeline\n",
    "from imblearn.over_sampling import SMOTE\n",
    "from sklearn.model_selection import RepeatedStratifiedKFold\n",
    "from sklearn.model_selection import cross_val_score\n",
    "from pandas import ExcelWriter\n",
    "from openpyxl import load_workbook"
   ]
  },
  {
   "cell_type": "markdown",
   "metadata": {},
   "source": [
    "## Load Data"
   ]
  },
  {
   "cell_type": "code",
   "execution_count": 2,
   "metadata": {},
   "outputs": [],
   "source": [
    "X_train = pd.read_csv(r'C:\\Users\\psahu\\Documents\\My_projects\\online_shoppers\\data\\Transformed_X_train_shoppersData.csv')\n",
    "y_train = pd.read_csv(r'C:\\Users\\psahu\\Documents\\My_projects\\online_shoppers\\data\\Transformed_y_train.csv')"
   ]
  },
  {
   "cell_type": "code",
   "execution_count": 3,
   "metadata": {},
   "outputs": [
    {
     "data": {
      "text/plain": [
       "((7398, 68), (7398, 1))"
      ]
     },
     "execution_count": 3,
     "metadata": {},
     "output_type": "execute_result"
    }
   ],
   "source": [
    "X_train.shape , y_train.shape"
   ]
  },
  {
   "cell_type": "markdown",
   "metadata": {},
   "source": [
    "## Declare Important Functions and variables"
   ]
  },
  {
   "cell_type": "code",
   "execution_count": 68,
   "metadata": {},
   "outputs": [],
   "source": [
    "lr  = LogisticRegression()\n",
    "svc = SVC(random_state = 50)\n",
    "knn = KNeighborsClassifier()\n",
    "rfc = RandomForestClassifier(random_state = 50)\n",
    "abc = AdaBoostClassifier(random_state=50) # AdaBoostClassifier\n",
    "gbc = GradientBoostingClassifier(random_state=50) # GradientBoostingClassifier\n",
    "xgb = XGBClassifier(random_state = 50)\n",
    "\n",
    "\n",
    "clf_list = [lr, knn,rfc,abc , gbc, xgb]"
   ]
  },
  {
   "cell_type": "markdown",
   "metadata": {},
   "source": [
    "# Multi Model Performance"
   ]
  },
  {
   "cell_type": "code",
   "execution_count": 17,
   "metadata": {},
   "outputs": [
    {
     "name": "stdout",
     "output_type": "stream",
     "text": [
      "(7398, 68)\n"
     ]
    },
    {
     "data": {
      "text/plain": [
       "(7398, 1)"
      ]
     },
     "execution_count": 17,
     "metadata": {},
     "output_type": "execute_result"
    }
   ],
   "source": [
    "print(X_train.shape)\n",
    "y_train.shape"
   ]
  },
  {
   "cell_type": "code",
   "execution_count": 63,
   "metadata": {},
   "outputs": [
    {
     "data": {
      "text/plain": [
       "Revenue\n",
       "0          6271\n",
       "1          1127\n",
       "dtype: int64"
      ]
     },
     "execution_count": 63,
     "metadata": {},
     "output_type": "execute_result"
    }
   ],
   "source": [
    "y_train.value_counts()"
   ]
  },
  {
   "cell_type": "code",
   "execution_count": 69,
   "metadata": {},
   "outputs": [],
   "source": [
    "def fit_model( clf , param_grid, X=X_train, y=y_train):\n",
    "\n",
    "    \n",
    "    scorer = { \n",
    "        'accuracy'   : 'accuracy',\n",
    "         'roc_auc'   : 'roc_auc',\n",
    "            'f1'     : 'f1',\n",
    "         'precision' : 'precision',\n",
    "            'recall' : 'recall'    \n",
    "                }\n",
    "    \n",
    "    myratio = {1: round( 1 *  y_train['Revenue'].value_counts()[0],0).astype(int) } \n",
    "    clf_model = Pipeline(\n",
    "        [\n",
    "      ('sampling', SMOTE(sampling_strategy= myratio )),\n",
    "        ('clf', clf)\n",
    "    ])\n",
    "\n",
    "    # cv uses StratifiedKFold\n",
    "    # scoring r2_score available as parameter\n",
    "    start = time.time()\n",
    "    grid = GridSearchCV(estimator=clf_model, param_grid= {}, scoring= scorer ,  cv=5 , refit ='recall')\n",
    "    print(\"Training {} :\".format(clf.__class__.__name__))\n",
    "    grid.fit(X, y)\n",
    "    end = time.time()\n",
    "    time_taken = round((end-start)/60,2)\n",
    "    #Recall_score = round(grid.best_score_,4)\n",
    "    \n",
    "    accuracy = grid.cv_results_['mean_test_accuracy']\n",
    "    roc_auc = grid.cv_results_['mean_test_roc_auc']\n",
    "    f1 = grid.cv_results_['mean_test_f1']\n",
    "    precision = grid.cv_results_['mean_test_precision']\n",
    "    recall = grid.cv_results_['mean_test_recall']\n",
    "\n",
    "\n",
    "    print(clf.__class__.__name__)\n",
    "    print(\"Time taken : {} mins\".format(time_taken))\n",
    "    print(\"Accuracy : {}\".format(accuracy))\n",
    "    print(\"*\"*40)\n",
    "    \n",
    "    return accuracy, roc_auc, f1, precision, recall, time_taken"
   ]
  },
  {
   "cell_type": "code",
   "execution_count": 70,
   "metadata": {},
   "outputs": [
    {
     "name": "stdout",
     "output_type": "stream",
     "text": [
      "Training LogisticRegression :\n",
      "LogisticRegression\n",
      "Time taken : 0.04 mins\n",
      "Accuracy : [0.84495724]\n",
      "****************************************\n",
      "Training KNeighborsClassifier :\n",
      "KNeighborsClassifier\n",
      "Time taken : 0.06 mins\n",
      "Accuracy : [0.75182656]\n",
      "****************************************\n",
      "Training RandomForestClassifier :\n",
      "RandomForestClassifier\n",
      "Time taken : 0.17 mins\n",
      "Accuracy : [0.88537525]\n",
      "****************************************\n",
      "Training AdaBoostClassifier :\n",
      "AdaBoostClassifier\n",
      "Time taken : 0.11 mins\n",
      "Accuracy : [0.87294008]\n",
      "****************************************\n",
      "Training GradientBoostingClassifier :\n",
      "GradientBoostingClassifier\n",
      "Time taken : 0.29 mins\n",
      "Accuracy : [0.88497094]\n",
      "****************************************\n",
      "Training XGBClassifier :\n",
      "XGBClassifier\n",
      "Time taken : 0.33 mins\n",
      "Accuracy : [0.88470031]\n",
      "****************************************\n"
     ]
    }
   ],
   "source": [
    "# Find best classification algorithm\n",
    "\n",
    "clf_names = []\n",
    "clf_accuracy = []\n",
    "clf_roc_auc = []\n",
    "clf_f1 = []\n",
    "clf_precision = []\n",
    "clf_recall = []\n",
    "#clf_scores = []\n",
    "#clf_best_ests = []\n",
    "clf_time_taken = []\n",
    "clf_dict = {}\n",
    "\n",
    "for clf in clf_list:\n",
    "    accuracy, roc_auc, f1, precision, recall, time_taken = fit_model(clf, {})\n",
    "    clf_names.append(clf.__class__.__name__)\n",
    "    clf_accuracy.append(accuracy)\n",
    "    clf_roc_auc.append(roc_auc)\n",
    "    clf_f1.append(f1)\n",
    "    clf_precision.append(precision)\n",
    "    clf_recall.append(recall)\n",
    "#   clf_scores.append(best_score)\n",
    "#   clf_best_ests.append(best_est)\n",
    "    clf_time_taken.append(time_taken)"
   ]
  },
  {
   "cell_type": "code",
   "execution_count": 71,
   "metadata": {},
   "outputs": [],
   "source": [
    "#Round \n",
    "clf_accuracy = list(np.round(clf_accuracy,5))\n",
    "clf_roc_auc = list(np.round(clf_roc_auc,5))\n",
    "clf_f1 = list(np.round(clf_f1,5))\n",
    "clf_precision = list(np.round(clf_precision,5))\n",
    "clf_recall = list(np.round(clf_recall,5))"
   ]
  },
  {
   "cell_type": "code",
   "execution_count": 73,
   "metadata": {},
   "outputs": [
    {
     "data": {
      "text/html": [
       "<div>\n",
       "<style scoped>\n",
       "    .dataframe tbody tr th:only-of-type {\n",
       "        vertical-align: middle;\n",
       "    }\n",
       "\n",
       "    .dataframe tbody tr th {\n",
       "        vertical-align: top;\n",
       "    }\n",
       "\n",
       "    .dataframe thead th {\n",
       "        text-align: right;\n",
       "    }\n",
       "</style>\n",
       "<table border=\"1\" class=\"dataframe\">\n",
       "  <thead>\n",
       "    <tr style=\"text-align: right;\">\n",
       "      <th></th>\n",
       "      <th>Accuracy</th>\n",
       "      <th>Roc_Auc</th>\n",
       "      <th>F1</th>\n",
       "      <th>Precision</th>\n",
       "      <th>Recall</th>\n",
       "      <th>Time_Taken (mins)</th>\n",
       "    </tr>\n",
       "  </thead>\n",
       "  <tbody>\n",
       "    <tr>\n",
       "      <th>LogisticRegression</th>\n",
       "      <td>[0.84496]</td>\n",
       "      <td>[0.84062]</td>\n",
       "      <td>[0.54098]</td>\n",
       "      <td>[0.49387]</td>\n",
       "      <td>[0.59988]</td>\n",
       "      <td>0.04</td>\n",
       "    </tr>\n",
       "    <tr>\n",
       "      <th>KNeighborsClassifier</th>\n",
       "      <td>[0.75183]</td>\n",
       "      <td>[0.76091]</td>\n",
       "      <td>[0.43645]</td>\n",
       "      <td>[0.3339]</td>\n",
       "      <td>[0.63084]</td>\n",
       "      <td>0.06</td>\n",
       "    </tr>\n",
       "    <tr>\n",
       "      <th>RandomForestClassifier</th>\n",
       "      <td>[0.88538]</td>\n",
       "      <td>[0.90939]</td>\n",
       "      <td>[0.62135]</td>\n",
       "      <td>[0.62629]</td>\n",
       "      <td>[0.61757]</td>\n",
       "      <td>0.17</td>\n",
       "    </tr>\n",
       "    <tr>\n",
       "      <th>AdaBoostClassifier</th>\n",
       "      <td>[0.87294]</td>\n",
       "      <td>[0.8951]</td>\n",
       "      <td>[0.60417]</td>\n",
       "      <td>[0.57571]</td>\n",
       "      <td>[0.63619]</td>\n",
       "      <td>0.11</td>\n",
       "    </tr>\n",
       "    <tr>\n",
       "      <th>GradientBoostingClassifier</th>\n",
       "      <td>[0.88497]</td>\n",
       "      <td>[0.91549]</td>\n",
       "      <td>[0.64911]</td>\n",
       "      <td>[0.60766]</td>\n",
       "      <td>[0.69744]</td>\n",
       "      <td>0.29</td>\n",
       "    </tr>\n",
       "    <tr>\n",
       "      <th>XGBClassifier</th>\n",
       "      <td>[0.8847]</td>\n",
       "      <td>[0.91611]</td>\n",
       "      <td>[0.65105]</td>\n",
       "      <td>[0.60467]</td>\n",
       "      <td>[0.70544]</td>\n",
       "      <td>0.33</td>\n",
       "    </tr>\n",
       "  </tbody>\n",
       "</table>\n",
       "</div>"
      ],
      "text/plain": [
       "                             Accuracy    Roc_Auc         F1  Precision  \\\n",
       "LogisticRegression          [0.84496]  [0.84062]  [0.54098]  [0.49387]   \n",
       "KNeighborsClassifier        [0.75183]  [0.76091]  [0.43645]   [0.3339]   \n",
       "RandomForestClassifier      [0.88538]  [0.90939]  [0.62135]  [0.62629]   \n",
       "AdaBoostClassifier          [0.87294]   [0.8951]  [0.60417]  [0.57571]   \n",
       "GradientBoostingClassifier  [0.88497]  [0.91549]  [0.64911]  [0.60766]   \n",
       "XGBClassifier                [0.8847]  [0.91611]  [0.65105]  [0.60467]   \n",
       "\n",
       "                               Recall  Time_Taken (mins)  \n",
       "LogisticRegression          [0.59988]               0.04  \n",
       "KNeighborsClassifier        [0.63084]               0.06  \n",
       "RandomForestClassifier      [0.61757]               0.17  \n",
       "AdaBoostClassifier          [0.63619]               0.11  \n",
       "GradientBoostingClassifier  [0.69744]               0.29  \n",
       "XGBClassifier               [0.70544]               0.33  "
      ]
     },
     "execution_count": 73,
     "metadata": {},
     "output_type": "execute_result"
    }
   ],
   "source": [
    "# Create clf_df dataframe from clf_dict\n",
    "clf_dict['Accuracy'] = clf_accuracy\n",
    "clf_dict['Roc_Auc'] = clf_roc_auc\n",
    "clf_dict['F1'] =   clf_f1\n",
    "clf_dict['Precision'] = clf_precision\n",
    "clf_dict['Recall'] = clf_recall\n",
    "clf_dict['Time_Taken (mins)'] = clf_time_taken\n",
    "#clf_dict['roc_auc'] = clf_scores\n",
    "#clf_dict['best_est'] = clf_best_ests\n",
    "clf_df = pd.DataFrame(clf_dict, index=clf_names)\n",
    "clf_df"
   ]
  },
  {
   "cell_type": "markdown",
   "metadata": {},
   "source": [
    "# Get the best Hyper-Parameters using Grid Search"
   ]
  },
  {
   "cell_type": "code",
   "execution_count": 161,
   "metadata": {},
   "outputs": [],
   "source": [
    "#!pip install pactools"
   ]
  },
  {
   "cell_type": "code",
   "execution_count": 79,
   "metadata": {},
   "outputs": [],
   "source": [
    "from sklearn.metrics import  make_scorer\n",
    "from imblearn.pipeline import Pipeline\n",
    "from pactools.grid_search import GridSearchCVProgressBar"
   ]
  },
  {
   "cell_type": "code",
   "execution_count": 80,
   "metadata": {},
   "outputs": [],
   "source": [
    "clf = XGBClassifier(random_state = 50)"
   ]
  },
  {
   "cell_type": "code",
   "execution_count": 81,
   "metadata": {},
   "outputs": [],
   "source": [
    "def fit_classifier(clf, param_grid,  X=X_train, y=y_train): \n",
    "    \n",
    "    scorer = {'recall' : 'recall' , \n",
    "              'accuracy' : 'accuracy'}\n",
    "    \n",
    "    myratio = {1: round( 1 *  y_train['Revenue'].value_counts()[0],0).astype(int) }\n",
    "    \n",
    "    clf_model = Pipeline(  [\n",
    "        ('sampling', SMOTE(sampling_strategy= myratio )),\n",
    "        ('clf', clf)\n",
    "    ])\n",
    "\n",
    "    start = time.time()\n",
    "    grid = GridSearchCV(clf_model, param_grid=param_grid, cv = 5 ,scoring= scorer, verbose = 10 , refit ='recall', n_jobs=-1 )\n",
    "    print(\"Training {} :\".format(clf.__class__.__name__))\n",
    "    grid.fit(X, y)\n",
    "    end = time.time()\n",
    "    time_taken = round((end-start)/3600,2)\n",
    "\n",
    "    print(clf.__class__.__name__)\n",
    "    print(\"Time taken : {} hours\".format(time_taken))\n",
    "    print(\"Best score : {}\".format(round(grid.best_score_,4)))\n",
    "    print(\"*\"*40)\n",
    "    \n",
    "    return grid.best_score_, grid.best_estimator_, time_taken"
   ]
  },
  {
   "cell_type": "code",
   "execution_count": 83,
   "metadata": {},
   "outputs": [],
   "source": [
    "param_grid = {\n",
    " \"clf__learning_rate\"    : [0.05, 0.1, 0.3  ] ,\n",
    " 'clf__n_estimators'     : [100 , 200 , 300],\n",
    " \"clf__max_depth\"        : [4, 5 ,6, 7],\n",
    " \"clf__min_child_weight\" : [1, 2 , 3 ],\n",
    " \"clf__gamma\"            : [0.0 ,0.1,0.2],\n",
    " \"clf__colsample_bytree\" : [0.5 , 0.7, 1.0]\n",
    "}"
   ]
  },
  {
   "cell_type": "code",
   "execution_count": 84,
   "metadata": {},
   "outputs": [
    {
     "name": "stdout",
     "output_type": "stream",
     "text": [
      "Training XGBClassifier :\n",
      "Fitting 5 folds for each of 972 candidates, totalling 4860 fits\n"
     ]
    },
    {
     "name": "stderr",
     "output_type": "stream",
     "text": [
      "[Parallel(n_jobs=-1)]: Using backend LokyBackend with 4 concurrent workers.\n",
      "[Parallel(n_jobs=-1)]: Done   5 tasks      | elapsed:   14.5s\n",
      "[Parallel(n_jobs=-1)]: Done  10 tasks      | elapsed:   30.2s\n",
      "[Parallel(n_jobs=-1)]: Done  17 tasks      | elapsed:   48.2s\n",
      "[Parallel(n_jobs=-1)]: Done  24 tasks      | elapsed:  1.1min\n",
      "[Parallel(n_jobs=-1)]: Done  33 tasks      | elapsed:  1.5min\n",
      "[Parallel(n_jobs=-1)]: Done  42 tasks      | elapsed:  2.0min\n",
      "[Parallel(n_jobs=-1)]: Done  53 tasks      | elapsed:  2.4min\n",
      "[Parallel(n_jobs=-1)]: Done  64 tasks      | elapsed:  3.0min\n",
      "[Parallel(n_jobs=-1)]: Done  77 tasks      | elapsed:  3.8min\n",
      "[Parallel(n_jobs=-1)]: Done  90 tasks      | elapsed:  4.6min\n",
      "[Parallel(n_jobs=-1)]: Done 105 tasks      | elapsed:  5.6min\n",
      "[Parallel(n_jobs=-1)]: Done 120 tasks      | elapsed:  6.4min\n",
      "[Parallel(n_jobs=-1)]: Done 137 tasks      | elapsed:  7.5min\n",
      "[Parallel(n_jobs=-1)]: Done 154 tasks      | elapsed:  8.5min\n",
      "[Parallel(n_jobs=-1)]: Done 173 tasks      | elapsed:  9.7min\n",
      "[Parallel(n_jobs=-1)]: Done 192 tasks      | elapsed: 10.7min\n",
      "[Parallel(n_jobs=-1)]: Done 213 tasks      | elapsed: 11.6min\n",
      "[Parallel(n_jobs=-1)]: Done 234 tasks      | elapsed: 12.4min\n",
      "[Parallel(n_jobs=-1)]: Done 257 tasks      | elapsed: 13.5min\n",
      "[Parallel(n_jobs=-1)]: Done 280 tasks      | elapsed: 14.6min\n",
      "[Parallel(n_jobs=-1)]: Done 305 tasks      | elapsed: 15.7min\n",
      "[Parallel(n_jobs=-1)]: Done 330 tasks      | elapsed: 17.1min\n",
      "[Parallel(n_jobs=-1)]: Done 357 tasks      | elapsed: 18.6min\n",
      "[Parallel(n_jobs=-1)]: Done 384 tasks      | elapsed: 19.6min\n",
      "[Parallel(n_jobs=-1)]: Done 413 tasks      | elapsed: 20.7min\n",
      "[Parallel(n_jobs=-1)]: Done 442 tasks      | elapsed: 22.0min\n",
      "[Parallel(n_jobs=-1)]: Done 473 tasks      | elapsed: 23.5min\n",
      "[Parallel(n_jobs=-1)]: Done 504 tasks      | elapsed: 25.0min\n",
      "[Parallel(n_jobs=-1)]: Done 537 tasks      | elapsed: 26.9min\n",
      "[Parallel(n_jobs=-1)]: Done 570 tasks      | elapsed: 28.2min\n",
      "[Parallel(n_jobs=-1)]: Done 605 tasks      | elapsed: 29.5min\n",
      "[Parallel(n_jobs=-1)]: Done 640 tasks      | elapsed: 31.2min\n",
      "[Parallel(n_jobs=-1)]: Done 677 tasks      | elapsed: 33.0min\n",
      "[Parallel(n_jobs=-1)]: Done 714 tasks      | elapsed: 35.0min\n",
      "[Parallel(n_jobs=-1)]: Done 753 tasks      | elapsed: 36.6min\n",
      "[Parallel(n_jobs=-1)]: Done 792 tasks      | elapsed: 38.3min\n",
      "[Parallel(n_jobs=-1)]: Done 833 tasks      | elapsed: 40.1min\n",
      "[Parallel(n_jobs=-1)]: Done 874 tasks      | elapsed: 42.3min\n",
      "[Parallel(n_jobs=-1)]: Done 917 tasks      | elapsed: 44.6min\n",
      "[Parallel(n_jobs=-1)]: Done 960 tasks      | elapsed: 46.3min\n",
      "[Parallel(n_jobs=-1)]: Done 1005 tasks      | elapsed: 48.3min\n",
      "[Parallel(n_jobs=-1)]: Done 1050 tasks      | elapsed: 50.5min\n",
      "[Parallel(n_jobs=-1)]: Done 1097 tasks      | elapsed: 52.8min\n",
      "[Parallel(n_jobs=-1)]: Done 1144 tasks      | elapsed: 54.7min\n",
      "[Parallel(n_jobs=-1)]: Done 1193 tasks      | elapsed: 57.0min\n",
      "[Parallel(n_jobs=-1)]: Done 1242 tasks      | elapsed: 59.9min\n",
      "[Parallel(n_jobs=-1)]: Done 1293 tasks      | elapsed: 62.6min\n",
      "[Parallel(n_jobs=-1)]: Done 1344 tasks      | elapsed: 65.0min\n",
      "[Parallel(n_jobs=-1)]: Done 1397 tasks      | elapsed: 67.8min\n",
      "[Parallel(n_jobs=-1)]: Done 1450 tasks      | elapsed: 70.5min\n",
      "[Parallel(n_jobs=-1)]: Done 1505 tasks      | elapsed: 72.8min\n",
      "[Parallel(n_jobs=-1)]: Done 1560 tasks      | elapsed: 75.5min\n",
      "[Parallel(n_jobs=-1)]: Done 1617 tasks      | elapsed: 78.5min\n",
      "[Parallel(n_jobs=-1)]: Done 1674 tasks      | elapsed: 81.1min\n",
      "[Parallel(n_jobs=-1)]: Done 1733 tasks      | elapsed: 84.4min\n",
      "[Parallel(n_jobs=-1)]: Done 1792 tasks      | elapsed: 88.3min\n",
      "[Parallel(n_jobs=-1)]: Done 1853 tasks      | elapsed: 91.2min\n",
      "[Parallel(n_jobs=-1)]: Done 1914 tasks      | elapsed: 94.6min\n",
      "[Parallel(n_jobs=-1)]: Done 1977 tasks      | elapsed: 98.8min\n",
      "[Parallel(n_jobs=-1)]: Done 2040 tasks      | elapsed: 101.9min\n",
      "[Parallel(n_jobs=-1)]: Done 2105 tasks      | elapsed: 105.5min\n",
      "[Parallel(n_jobs=-1)]: Done 2170 tasks      | elapsed: 109.7min\n",
      "[Parallel(n_jobs=-1)]: Done 2237 tasks      | elapsed: 113.4min\n",
      "[Parallel(n_jobs=-1)]: Done 2304 tasks      | elapsed: 117.5min\n",
      "[Parallel(n_jobs=-1)]: Done 2373 tasks      | elapsed: 122.0min\n",
      "[Parallel(n_jobs=-1)]: Done 2442 tasks      | elapsed: 125.9min\n",
      "[Parallel(n_jobs=-1)]: Done 2513 tasks      | elapsed: 130.6min\n",
      "[Parallel(n_jobs=-1)]: Done 2584 tasks      | elapsed: 134.2min\n",
      "[Parallel(n_jobs=-1)]: Done 2657 tasks      | elapsed: 138.6min\n",
      "[Parallel(n_jobs=-1)]: Done 2730 tasks      | elapsed: 144.7min\n",
      "[Parallel(n_jobs=-1)]: Done 2805 tasks      | elapsed: 150.3min\n",
      "[Parallel(n_jobs=-1)]: Done 2880 tasks      | elapsed: 155.6min\n",
      "[Parallel(n_jobs=-1)]: Done 2957 tasks      | elapsed: 159.4min\n",
      "[Parallel(n_jobs=-1)]: Done 3034 tasks      | elapsed: 164.1min\n",
      "[Parallel(n_jobs=-1)]: Done 3113 tasks      | elapsed: 168.5min\n",
      "[Parallel(n_jobs=-1)]: Done 3192 tasks      | elapsed: 173.7min\n",
      "[Parallel(n_jobs=-1)]: Done 3273 tasks      | elapsed: 178.7min\n",
      "[Parallel(n_jobs=-1)]: Done 3354 tasks      | elapsed: 184.6min\n",
      "[Parallel(n_jobs=-1)]: Done 3437 tasks      | elapsed: 191.3min\n",
      "[Parallel(n_jobs=-1)]: Done 3520 tasks      | elapsed: 196.7min\n",
      "[Parallel(n_jobs=-1)]: Done 3605 tasks      | elapsed: 209.0min\n",
      "[Parallel(n_jobs=-1)]: Done 3690 tasks      | elapsed: 219.2min\n",
      "[Parallel(n_jobs=-1)]: Done 3777 tasks      | elapsed: 233.4min\n",
      "[Parallel(n_jobs=-1)]: Done 3864 tasks      | elapsed: 243.7min\n",
      "[Parallel(n_jobs=-1)]: Done 3953 tasks      | elapsed: 258.0min\n",
      "[Parallel(n_jobs=-1)]: Done 4042 tasks      | elapsed: 268.9min\n",
      "[Parallel(n_jobs=-1)]: Done 4133 tasks      | elapsed: 278.8min\n",
      "[Parallel(n_jobs=-1)]: Done 4224 tasks      | elapsed: 284.6min\n",
      "[Parallel(n_jobs=-1)]: Done 4317 tasks      | elapsed: 292.6min\n",
      "[Parallel(n_jobs=-1)]: Done 4410 tasks      | elapsed: 298.9min\n",
      "[Parallel(n_jobs=-1)]: Done 4505 tasks      | elapsed: 307.9min\n",
      "[Parallel(n_jobs=-1)]: Done 4600 tasks      | elapsed: 314.4min\n",
      "[Parallel(n_jobs=-1)]: Done 4697 tasks      | elapsed: 322.9min\n",
      "[Parallel(n_jobs=-1)]: Done 4794 tasks      | elapsed: 329.3min\n",
      "[Parallel(n_jobs=-1)]: Done 4860 out of 4860 | elapsed: 335.2min finished\n",
      "C:\\Users\\psahu\\AppData\\Local\\Continuum\\anaconda3\\lib\\site-packages\\sklearn\\utils\\validation.py:73: DataConversionWarning: A column-vector y was passed when a 1d array was expected. Please change the shape of y to (n_samples, ), for example using ravel().\n",
      "  return f(**kwargs)\n"
     ]
    },
    {
     "name": "stdout",
     "output_type": "stream",
     "text": [
      "XGBClassifier\n",
      "Time taken : 5.59 hours\n",
      "Best score : 0.7436\n",
      "****************************************\n"
     ]
    },
    {
     "data": {
      "text/plain": [
       "Pipeline(steps=[('sampling', SMOTE(sampling_strategy={1: 6271})),\n",
       "                ('clf',\n",
       "                 XGBClassifier(colsample_bytree=0.7, gamma=0.0,\n",
       "                               learning_rate=0.05, max_depth=4,\n",
       "                               min_child_weight=3, random_state=50))])"
      ]
     },
     "execution_count": 84,
     "metadata": {},
     "output_type": "execute_result"
    }
   ],
   "source": [
    "xgb_best_score, xgb_best_est, time_taken = fit_classifier(XGBClassifier(random_state = 50), param_grid , X_train, y_train)\n",
    "xgb_best_est"
   ]
  },
  {
   "cell_type": "code",
   "execution_count": 85,
   "metadata": {},
   "outputs": [
    {
     "name": "stdout",
     "output_type": "stream",
     "text": [
      "Best: 0.743591 using Pipeline(steps=[('sampling', SMOTE(sampling_strategy={1: 6271})),\n",
      "                ('clf',\n",
      "                 XGBClassifier(colsample_bytree=0.7, gamma=0.0,\n",
      "                               learning_rate=0.05, max_depth=4,\n",
      "                               min_child_weight=3, random_state=50))]) in 5.590000 hours\n"
     ]
    }
   ],
   "source": [
    "print(\"Best: %f using %s in %f hours\" % (xgb_best_score, xgb_best_est , time_taken))"
   ]
  },
  {
   "cell_type": "code",
   "execution_count": null,
   "metadata": {},
   "outputs": [],
   "source": []
  }
 ],
 "metadata": {
  "hide_input": false,
  "kernelspec": {
   "display_name": "Python 3",
   "language": "python",
   "name": "python3"
  },
  "language_info": {
   "codemirror_mode": {
    "name": "ipython",
    "version": 3
   },
   "file_extension": ".py",
   "mimetype": "text/x-python",
   "name": "python",
   "nbconvert_exporter": "python",
   "pygments_lexer": "ipython3",
   "version": "3.7.4"
  },
  "toc": {
   "base_numbering": 1,
   "nav_menu": {},
   "number_sections": true,
   "sideBar": true,
   "skip_h1_title": false,
   "title_cell": "Table of Contents",
   "title_sidebar": "Contents",
   "toc_cell": false,
   "toc_position": {},
   "toc_section_display": true,
   "toc_window_display": false
  },
  "varInspector": {
   "cols": {
    "lenName": 16,
    "lenType": 16,
    "lenVar": 40
   },
   "kernels_config": {
    "python": {
     "delete_cmd_postfix": "",
     "delete_cmd_prefix": "del ",
     "library": "var_list.py",
     "varRefreshCmd": "print(var_dic_list())"
    },
    "r": {
     "delete_cmd_postfix": ") ",
     "delete_cmd_prefix": "rm(",
     "library": "var_list.r",
     "varRefreshCmd": "cat(var_dic_list()) "
    }
   },
   "types_to_exclude": [
    "module",
    "function",
    "builtin_function_or_method",
    "instance",
    "_Feature"
   ],
   "window_display": false
  }
 },
 "nbformat": 4,
 "nbformat_minor": 2
}
