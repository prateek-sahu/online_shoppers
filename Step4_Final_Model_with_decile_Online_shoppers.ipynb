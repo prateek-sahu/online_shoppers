{
 "cells": [
  {
   "cell_type": "markdown",
   "metadata": {},
   "source": [
    "## Objective : We will measure performance of final model ."
   ]
  },
  {
   "cell_type": "code",
   "execution_count": 6,
   "metadata": {},
   "outputs": [],
   "source": [
    "#!pip install  scikit-plot"
   ]
  },
  {
   "cell_type": "code",
   "execution_count": 7,
   "metadata": {},
   "outputs": [],
   "source": [
    "#import libraries here; add more as necessary.\n",
    "import numpy as np\n",
    "import pandas as pd\n",
    "import matplotlib.pyplot as plt\n",
    "import time\n",
    "import sidetable\n",
    "import warnings\n",
    "import joblib\n",
    "warnings.filterwarnings(\"ignore\")\n",
    "\n",
    "#Models\n",
    "from xgboost import XGBClassifier\n",
    "\n",
    "\n",
    "from imblearn.over_sampling import SMOTE\n",
    "from sklearn.model_selection import GridSearchCV\n",
    "from sklearn.preprocessing import MinMaxScaler\n",
    "from sklearn.metrics import accuracy_score, confusion_matrix\n",
    "from pandas import ExcelWriter\n",
    "from openpyxl import load_workbook\n",
    "\n",
    "%load_ext autoreload\n",
    "%autoreload 2"
   ]
  },
  {
   "cell_type": "markdown",
   "metadata": {},
   "source": [
    "## Load Data"
   ]
  },
  {
   "cell_type": "code",
   "execution_count": 8,
   "metadata": {},
   "outputs": [],
   "source": [
    "X_train = pd.read_csv(r'C:\\Users\\psahu\\Documents\\My_projects\\online_shoppers\\data\\Transformed_X_train_shoppersData.csv')\n",
    "y_train = pd.read_csv(r'C:\\Users\\psahu\\Documents\\My_projects\\online_shoppers\\data\\Transformed_y_train.csv')"
   ]
  },
  {
   "cell_type": "code",
   "execution_count": 9,
   "metadata": {},
   "outputs": [],
   "source": [
    "X_test = pd.read_csv(r'C:\\Users\\psahu\\Documents\\My_projects\\online_shoppers\\data\\Transformed_X_test_shoppersData.csv')\n",
    "y_test = pd.read_csv(r'C:\\Users\\psahu\\Documents\\My_projects\\online_shoppers\\data\\Transformed_y_test.csv')"
   ]
  },
  {
   "cell_type": "code",
   "execution_count": 10,
   "metadata": {},
   "outputs": [],
   "source": [
    "X_val = pd.read_csv(r'C:\\Users\\psahu\\Documents\\My_projects\\online_shoppers\\data\\Transformed_X_val_shoppersData.csv')\n",
    "y_val = pd.read_csv(r'C:\\Users\\psahu\\Documents\\My_projects\\online_shoppers\\data\\Transformed_y_val.csv')"
   ]
  },
  {
   "cell_type": "code",
   "execution_count": 11,
   "metadata": {},
   "outputs": [
    {
     "name": "stdout",
     "output_type": "stream",
     "text": [
      "Functions_File is successfully imported.\n"
     ]
    }
   ],
   "source": [
    "import Functions_File as my_ff"
   ]
  },
  {
   "cell_type": "markdown",
   "metadata": {},
   "source": [
    "# Final Model"
   ]
  },
  {
   "cell_type": "code",
   "execution_count": 12,
   "metadata": {},
   "outputs": [
    {
     "name": "stdout",
     "output_type": "stream",
     "text": [
      "(7398, 68) (7398, 1)\n"
     ]
    }
   ],
   "source": [
    "print(X_train.shape ,y_train.shape)"
   ]
  },
  {
   "cell_type": "code",
   "execution_count": 13,
   "metadata": {},
   "outputs": [
    {
     "name": "stdout",
     "output_type": "stream",
     "text": [
      "(2466, 68) (2466, 1)\n"
     ]
    }
   ],
   "source": [
    "print(X_test.shape ,y_test.shape)"
   ]
  },
  {
   "cell_type": "code",
   "execution_count": 14,
   "metadata": {},
   "outputs": [
    {
     "name": "stdout",
     "output_type": "stream",
     "text": [
      "(2466, 68) (2466, 1)\n"
     ]
    }
   ],
   "source": [
    "print(X_val.shape ,y_val.shape)"
   ]
  },
  {
   "cell_type": "markdown",
   "metadata": {},
   "source": [
    "## Before Sampling"
   ]
  },
  {
   "cell_type": "code",
   "execution_count": 15,
   "metadata": {},
   "outputs": [
    {
     "data": {
      "text/plain": [
       "Revenue\n",
       "0          6271\n",
       "1          1127\n",
       "dtype: int64"
      ]
     },
     "execution_count": 15,
     "metadata": {},
     "output_type": "execute_result"
    }
   ],
   "source": [
    "y_train.value_counts()"
   ]
  },
  {
   "cell_type": "code",
   "execution_count": 16,
   "metadata": {},
   "outputs": [],
   "source": [
    "#USing SMOTE for oversampling of Minority class\n",
    "smt = SMOTE(sampling_strategy = 1)\n",
    "X_train, y_train = smt.fit_sample(X_train, y_train)"
   ]
  },
  {
   "cell_type": "markdown",
   "metadata": {},
   "source": [
    "## After Sampling"
   ]
  },
  {
   "cell_type": "code",
   "execution_count": 17,
   "metadata": {},
   "outputs": [
    {
     "data": {
      "text/plain": [
       "Revenue\n",
       "1          6271\n",
       "0          6271\n",
       "dtype: int64"
      ]
     },
     "execution_count": 17,
     "metadata": {},
     "output_type": "execute_result"
    }
   ],
   "source": [
    "y_train.value_counts()"
   ]
  },
  {
   "cell_type": "markdown",
   "metadata": {},
   "source": [
    "## XGBoost"
   ]
  },
  {
   "cell_type": "raw",
   "metadata": {},
   "source": [
    "Outcome of Hyper-parameter Tuning\n",
    "XGBClassifier(colsample_bytree=0.7, gamma=0.0,\n",
    "                               learning_rate=0.05, max_depth=4,\n",
    "                               min_child_weight=3, random_state=50)"
   ]
  },
  {
   "cell_type": "code",
   "execution_count": 18,
   "metadata": {},
   "outputs": [],
   "source": [
    "#model =  XGBClassifier()"
   ]
  },
  {
   "cell_type": "code",
   "execution_count": 19,
   "metadata": {},
   "outputs": [],
   "source": [
    "model =  XGBClassifier(colsample_bytree=0.7, gamma=0.0,\n",
    "                               learning_rate=0.05, max_depth=4,\n",
    "                               min_child_weight=3, random_state=50)"
   ]
  },
  {
   "cell_type": "code",
   "execution_count": 20,
   "metadata": {},
   "outputs": [
    {
     "data": {
      "text/plain": [
       "XGBClassifier(colsample_bytree=0.7, gamma=0.0, learning_rate=0.05, max_depth=4,\n",
       "              min_child_weight=3, random_state=50)"
      ]
     },
     "execution_count": 20,
     "metadata": {},
     "output_type": "execute_result"
    }
   ],
   "source": [
    "model.fit(X_train,y_train)"
   ]
  },
  {
   "cell_type": "markdown",
   "metadata": {},
   "source": [
    "## Prediction on test set.  "
   ]
  },
  {
   "cell_type": "code",
   "execution_count": 21,
   "metadata": {},
   "outputs": [
    {
     "name": "stdout",
     "output_type": "stream",
     "text": [
      "Accuracy: 88.88888888888889\n"
     ]
    }
   ],
   "source": [
    "y_pred_test = model.predict(X_test)\n",
    "print(\"Accuracy:\" , accuracy_score(y_test,y_pred_test)*100)"
   ]
  },
  {
   "cell_type": "code",
   "execution_count": 22,
   "metadata": {},
   "outputs": [],
   "source": [
    "y_pred_test_prob=model.predict_proba(X_test)"
   ]
  },
  {
   "cell_type": "code",
   "execution_count": 23,
   "metadata": {},
   "outputs": [
    {
     "data": {
      "text/plain": [
       "array([[1910,  174],\n",
       "       [ 100,  282]], dtype=int64)"
      ]
     },
     "execution_count": 23,
     "metadata": {},
     "output_type": "execute_result"
    }
   ],
   "source": [
    "confusion_matrix(y_test, y_pred_test)"
   ]
  },
  {
   "cell_type": "code",
   "execution_count": 24,
   "metadata": {},
   "outputs": [
    {
     "data": {
      "text/plain": [
       "0.7382198952879581"
      ]
     },
     "execution_count": 24,
     "metadata": {},
     "output_type": "execute_result"
    }
   ],
   "source": [
    "from sklearn.metrics import recall_score\n",
    "recall_score(y_test, y_pred_test,  average='binary')"
   ]
  },
  {
   "cell_type": "code",
   "execution_count": 25,
   "metadata": {},
   "outputs": [
    {
     "name": "stdout",
     "output_type": "stream",
     "text": [
      "              precision    recall  f1-score   support\n",
      "\n",
      "           0       0.95      0.92      0.93      2084\n",
      "           1       0.62      0.74      0.67       382\n",
      "\n",
      "    accuracy                           0.89      2466\n",
      "   macro avg       0.78      0.83      0.80      2466\n",
      "weighted avg       0.90      0.89      0.89      2466\n",
      "\n"
     ]
    }
   ],
   "source": [
    "#Compute precision, recall, F-measure and support\n",
    "\n",
    "from sklearn.metrics import classification_report\n",
    "print(classification_report(y_test, y_pred_test))"
   ]
  },
  {
   "cell_type": "markdown",
   "metadata": {},
   "source": [
    "##  Prediction on validation set "
   ]
  },
  {
   "cell_type": "code",
   "execution_count": 26,
   "metadata": {},
   "outputs": [
    {
     "name": "stdout",
     "output_type": "stream",
     "text": [
      "Accuracy: 89.05109489051095\n"
     ]
    }
   ],
   "source": [
    "y_pred_val = model.predict(X_val)\n",
    "print(\"Accuracy:\" , accuracy_score(y_val,y_pred_val)*100)"
   ]
  },
  {
   "cell_type": "code",
   "execution_count": 27,
   "metadata": {},
   "outputs": [
    {
     "data": {
      "text/plain": [
       "0.7418546365914787"
      ]
     },
     "execution_count": 27,
     "metadata": {},
     "output_type": "execute_result"
    }
   ],
   "source": [
    "recall_score_val=recall_score(y_val,y_pred_val,  average='binary')\n",
    "recall_score_val"
   ]
  },
  {
   "cell_type": "code",
   "execution_count": 28,
   "metadata": {},
   "outputs": [],
   "source": [
    "y_pred_val_proba =model.predict_proba(X_val)"
   ]
  },
  {
   "cell_type": "code",
   "execution_count": 29,
   "metadata": {},
   "outputs": [
    {
     "data": {
      "text/plain": [
       "array([[1900,  167],\n",
       "       [ 103,  296]], dtype=int64)"
      ]
     },
     "execution_count": 29,
     "metadata": {},
     "output_type": "execute_result"
    }
   ],
   "source": [
    "#\n",
    "X_val_probs = model.predict_proba(X_val)[:,1]\n",
    "#%% Confusion metrics - validation set\n",
    "confusion_matrix(y_val, y_pred_val)"
   ]
  },
  {
   "cell_type": "code",
   "execution_count": 30,
   "metadata": {},
   "outputs": [
    {
     "name": "stdout",
     "output_type": "stream",
     "text": [
      "              precision    recall  f1-score   support\n",
      "\n",
      "           0       0.95      0.92      0.93      2067\n",
      "           1       0.64      0.74      0.69       399\n",
      "\n",
      "    accuracy                           0.89      2466\n",
      "   macro avg       0.79      0.83      0.81      2466\n",
      "weighted avg       0.90      0.89      0.89      2466\n",
      "\n"
     ]
    }
   ],
   "source": [
    "#%% Compute precision, recall, F-measure and support\n",
    "\n",
    "from sklearn.metrics import classification_report\n",
    "print(classification_report(y_val, y_pred_val))"
   ]
  },
  {
   "cell_type": "markdown",
   "metadata": {},
   "source": [
    "## Feature Importance"
   ]
  },
  {
   "cell_type": "code",
   "execution_count": 31,
   "metadata": {},
   "outputs": [],
   "source": [
    "xgb_feat_imp_cover = model.get_booster().get_score(importance_type='cover')\n",
    "xgb_feat_imp_gain = model.get_booster().get_score(importance_type='gain')\n",
    "xgb_feat_imp_weight = model.get_booster().get_score(importance_type='weight')"
   ]
  },
  {
   "cell_type": "code",
   "execution_count": 32,
   "metadata": {},
   "outputs": [],
   "source": [
    "full_feat_imp = pd.DataFrame( [ xgb_feat_imp_gain , xgb_feat_imp_cover, xgb_feat_imp_weight]).T\n",
    "full_feat_imp.columns = [ 'gain' ,'cover' ,  'weight']"
   ]
  },
  {
   "cell_type": "code",
   "execution_count": 33,
   "metadata": {},
   "outputs": [],
   "source": [
    "#Sort as per 'gain'\n",
    "full_feat_imp.sort_values(\"gain\", axis = 0, ascending = False , inplace = True)"
   ]
  },
  {
   "cell_type": "code",
   "execution_count": 34,
   "metadata": {},
   "outputs": [
    {
     "data": {
      "text/html": [
       "<div>\n",
       "<style scoped>\n",
       "    .dataframe tbody tr th:only-of-type {\n",
       "        vertical-align: middle;\n",
       "    }\n",
       "\n",
       "    .dataframe tbody tr th {\n",
       "        vertical-align: top;\n",
       "    }\n",
       "\n",
       "    .dataframe thead th {\n",
       "        text-align: right;\n",
       "    }\n",
       "</style>\n",
       "<table border=\"1\" class=\"dataframe\">\n",
       "  <thead>\n",
       "    <tr style=\"text-align: right;\">\n",
       "      <th></th>\n",
       "      <th>features</th>\n",
       "      <th>gain</th>\n",
       "      <th>cover</th>\n",
       "      <th>weight</th>\n",
       "    </tr>\n",
       "  </thead>\n",
       "  <tbody>\n",
       "    <tr>\n",
       "      <th>0</th>\n",
       "      <td>PageValues</td>\n",
       "      <td>645.799862</td>\n",
       "      <td>981.605031</td>\n",
       "      <td>123.0</td>\n",
       "    </tr>\n",
       "    <tr>\n",
       "      <th>1</th>\n",
       "      <td>OperatingSystems_3</td>\n",
       "      <td>82.181446</td>\n",
       "      <td>851.396606</td>\n",
       "      <td>30.0</td>\n",
       "    </tr>\n",
       "    <tr>\n",
       "      <th>2</th>\n",
       "      <td>Month_May</td>\n",
       "      <td>79.647789</td>\n",
       "      <td>1022.948113</td>\n",
       "      <td>77.0</td>\n",
       "    </tr>\n",
       "    <tr>\n",
       "      <th>3</th>\n",
       "      <td>Month_Mar</td>\n",
       "      <td>70.896014</td>\n",
       "      <td>810.454009</td>\n",
       "      <td>62.0</td>\n",
       "    </tr>\n",
       "    <tr>\n",
       "      <th>4</th>\n",
       "      <td>TrafficType_3</td>\n",
       "      <td>70.302130</td>\n",
       "      <td>1159.770071</td>\n",
       "      <td>21.0</td>\n",
       "    </tr>\n",
       "    <tr>\n",
       "      <th>5</th>\n",
       "      <td>Month_Dec</td>\n",
       "      <td>68.885959</td>\n",
       "      <td>766.131270</td>\n",
       "      <td>60.0</td>\n",
       "    </tr>\n",
       "    <tr>\n",
       "      <th>6</th>\n",
       "      <td>OperatingSystems_2</td>\n",
       "      <td>65.067324</td>\n",
       "      <td>709.659998</td>\n",
       "      <td>21.0</td>\n",
       "    </tr>\n",
       "    <tr>\n",
       "      <th>7</th>\n",
       "      <td>OperatingSystems_4</td>\n",
       "      <td>59.623154</td>\n",
       "      <td>726.454224</td>\n",
       "      <td>1.0</td>\n",
       "    </tr>\n",
       "    <tr>\n",
       "      <th>8</th>\n",
       "      <td>VisitorType_Returning_Visitor</td>\n",
       "      <td>48.962885</td>\n",
       "      <td>686.479837</td>\n",
       "      <td>81.0</td>\n",
       "    </tr>\n",
       "    <tr>\n",
       "      <th>9</th>\n",
       "      <td>Region_3</td>\n",
       "      <td>46.178042</td>\n",
       "      <td>871.240275</td>\n",
       "      <td>42.0</td>\n",
       "    </tr>\n",
       "    <tr>\n",
       "      <th>10</th>\n",
       "      <td>Month_Oct</td>\n",
       "      <td>44.869279</td>\n",
       "      <td>701.170958</td>\n",
       "      <td>15.0</td>\n",
       "    </tr>\n",
       "    <tr>\n",
       "      <th>11</th>\n",
       "      <td>TrafficType_4</td>\n",
       "      <td>44.772154</td>\n",
       "      <td>490.216432</td>\n",
       "      <td>15.0</td>\n",
       "    </tr>\n",
       "    <tr>\n",
       "      <th>12</th>\n",
       "      <td>Region_2</td>\n",
       "      <td>42.959013</td>\n",
       "      <td>848.990663</td>\n",
       "      <td>15.0</td>\n",
       "    </tr>\n",
       "    <tr>\n",
       "      <th>13</th>\n",
       "      <td>Browser_2</td>\n",
       "      <td>41.286897</td>\n",
       "      <td>602.498089</td>\n",
       "      <td>18.0</td>\n",
       "    </tr>\n",
       "    <tr>\n",
       "      <th>14</th>\n",
       "      <td>ExitRates</td>\n",
       "      <td>38.755107</td>\n",
       "      <td>317.380119</td>\n",
       "      <td>125.0</td>\n",
       "    </tr>\n",
       "    <tr>\n",
       "      <th>15</th>\n",
       "      <td>TrafficType_13</td>\n",
       "      <td>34.990649</td>\n",
       "      <td>682.729500</td>\n",
       "      <td>16.0</td>\n",
       "    </tr>\n",
       "    <tr>\n",
       "      <th>16</th>\n",
       "      <td>Region_9</td>\n",
       "      <td>34.383786</td>\n",
       "      <td>812.665684</td>\n",
       "      <td>6.0</td>\n",
       "    </tr>\n",
       "    <tr>\n",
       "      <th>17</th>\n",
       "      <td>Region_4</td>\n",
       "      <td>34.112700</td>\n",
       "      <td>782.186541</td>\n",
       "      <td>13.0</td>\n",
       "    </tr>\n",
       "    <tr>\n",
       "      <th>18</th>\n",
       "      <td>Month_Jul</td>\n",
       "      <td>32.801512</td>\n",
       "      <td>836.600055</td>\n",
       "      <td>10.0</td>\n",
       "    </tr>\n",
       "    <tr>\n",
       "      <th>19</th>\n",
       "      <td>TrafficType_2</td>\n",
       "      <td>32.396207</td>\n",
       "      <td>432.224064</td>\n",
       "      <td>31.0</td>\n",
       "    </tr>\n",
       "    <tr>\n",
       "      <th>20</th>\n",
       "      <td>Region_6</td>\n",
       "      <td>31.795602</td>\n",
       "      <td>706.752386</td>\n",
       "      <td>3.0</td>\n",
       "    </tr>\n",
       "    <tr>\n",
       "      <th>21</th>\n",
       "      <td>Month_Sep</td>\n",
       "      <td>31.111870</td>\n",
       "      <td>675.085274</td>\n",
       "      <td>16.0</td>\n",
       "    </tr>\n",
       "    <tr>\n",
       "      <th>22</th>\n",
       "      <td>Browser_4</td>\n",
       "      <td>28.599664</td>\n",
       "      <td>345.158032</td>\n",
       "      <td>10.0</td>\n",
       "    </tr>\n",
       "    <tr>\n",
       "      <th>23</th>\n",
       "      <td>Month_Nov</td>\n",
       "      <td>28.538587</td>\n",
       "      <td>478.428350</td>\n",
       "      <td>28.0</td>\n",
       "    </tr>\n",
       "    <tr>\n",
       "      <th>24</th>\n",
       "      <td>Month_June</td>\n",
       "      <td>25.088146</td>\n",
       "      <td>629.768469</td>\n",
       "      <td>5.0</td>\n",
       "    </tr>\n",
       "    <tr>\n",
       "      <th>25</th>\n",
       "      <td>Administrative_Duration</td>\n",
       "      <td>22.803621</td>\n",
       "      <td>256.847782</td>\n",
       "      <td>131.0</td>\n",
       "    </tr>\n",
       "    <tr>\n",
       "      <th>26</th>\n",
       "      <td>Browser_5</td>\n",
       "      <td>22.130072</td>\n",
       "      <td>155.259781</td>\n",
       "      <td>1.0</td>\n",
       "    </tr>\n",
       "    <tr>\n",
       "      <th>27</th>\n",
       "      <td>Browser_6</td>\n",
       "      <td>22.095192</td>\n",
       "      <td>129.387146</td>\n",
       "      <td>1.0</td>\n",
       "    </tr>\n",
       "    <tr>\n",
       "      <th>28</th>\n",
       "      <td>Weekend_YES</td>\n",
       "      <td>19.736325</td>\n",
       "      <td>447.112145</td>\n",
       "      <td>19.0</td>\n",
       "    </tr>\n",
       "    <tr>\n",
       "      <th>29</th>\n",
       "      <td>Region_7</td>\n",
       "      <td>17.378812</td>\n",
       "      <td>389.454827</td>\n",
       "      <td>10.0</td>\n",
       "    </tr>\n",
       "    <tr>\n",
       "      <th>30</th>\n",
       "      <td>TrafficType_8</td>\n",
       "      <td>16.791714</td>\n",
       "      <td>129.544296</td>\n",
       "      <td>1.0</td>\n",
       "    </tr>\n",
       "    <tr>\n",
       "      <th>31</th>\n",
       "      <td>ProductRelated_Duration</td>\n",
       "      <td>16.570139</td>\n",
       "      <td>216.538390</td>\n",
       "      <td>177.0</td>\n",
       "    </tr>\n",
       "    <tr>\n",
       "      <th>32</th>\n",
       "      <td>Informational_Duration</td>\n",
       "      <td>15.679595</td>\n",
       "      <td>229.163932</td>\n",
       "      <td>57.0</td>\n",
       "    </tr>\n",
       "    <tr>\n",
       "      <th>33</th>\n",
       "      <td>TrafficType_6</td>\n",
       "      <td>12.846942</td>\n",
       "      <td>264.506832</td>\n",
       "      <td>4.0</td>\n",
       "    </tr>\n",
       "    <tr>\n",
       "      <th>34</th>\n",
       "      <td>TrafficType_10</td>\n",
       "      <td>8.148453</td>\n",
       "      <td>293.687805</td>\n",
       "      <td>1.0</td>\n",
       "    </tr>\n",
       "    <tr>\n",
       "      <th>35</th>\n",
       "      <td>TrafficType_5</td>\n",
       "      <td>6.547017</td>\n",
       "      <td>279.059732</td>\n",
       "      <td>15.0</td>\n",
       "    </tr>\n",
       "  </tbody>\n",
       "</table>\n",
       "</div>"
      ],
      "text/plain": [
       "                         features        gain        cover  weight\n",
       "0                      PageValues  645.799862   981.605031   123.0\n",
       "1              OperatingSystems_3   82.181446   851.396606    30.0\n",
       "2                       Month_May   79.647789  1022.948113    77.0\n",
       "3                       Month_Mar   70.896014   810.454009    62.0\n",
       "4                   TrafficType_3   70.302130  1159.770071    21.0\n",
       "5                       Month_Dec   68.885959   766.131270    60.0\n",
       "6              OperatingSystems_2   65.067324   709.659998    21.0\n",
       "7              OperatingSystems_4   59.623154   726.454224     1.0\n",
       "8   VisitorType_Returning_Visitor   48.962885   686.479837    81.0\n",
       "9                        Region_3   46.178042   871.240275    42.0\n",
       "10                      Month_Oct   44.869279   701.170958    15.0\n",
       "11                  TrafficType_4   44.772154   490.216432    15.0\n",
       "12                       Region_2   42.959013   848.990663    15.0\n",
       "13                      Browser_2   41.286897   602.498089    18.0\n",
       "14                      ExitRates   38.755107   317.380119   125.0\n",
       "15                 TrafficType_13   34.990649   682.729500    16.0\n",
       "16                       Region_9   34.383786   812.665684     6.0\n",
       "17                       Region_4   34.112700   782.186541    13.0\n",
       "18                      Month_Jul   32.801512   836.600055    10.0\n",
       "19                  TrafficType_2   32.396207   432.224064    31.0\n",
       "20                       Region_6   31.795602   706.752386     3.0\n",
       "21                      Month_Sep   31.111870   675.085274    16.0\n",
       "22                      Browser_4   28.599664   345.158032    10.0\n",
       "23                      Month_Nov   28.538587   478.428350    28.0\n",
       "24                     Month_June   25.088146   629.768469     5.0\n",
       "25        Administrative_Duration   22.803621   256.847782   131.0\n",
       "26                      Browser_5   22.130072   155.259781     1.0\n",
       "27                      Browser_6   22.095192   129.387146     1.0\n",
       "28                    Weekend_YES   19.736325   447.112145    19.0\n",
       "29                       Region_7   17.378812   389.454827    10.0\n",
       "30                  TrafficType_8   16.791714   129.544296     1.0\n",
       "31        ProductRelated_Duration   16.570139   216.538390   177.0\n",
       "32         Informational_Duration   15.679595   229.163932    57.0\n",
       "33                  TrafficType_6   12.846942   264.506832     4.0\n",
       "34                 TrafficType_10    8.148453   293.687805     1.0\n",
       "35                  TrafficType_5    6.547017   279.059732    15.0"
      ]
     },
     "execution_count": 34,
     "metadata": {},
     "output_type": "execute_result"
    }
   ],
   "source": [
    "full_feat_imp=full_feat_imp.reset_index().rename(columns = {'index' : 'features'})\n",
    "full_feat_imp"
   ]
  },
  {
   "cell_type": "markdown",
   "metadata": {},
   "source": [
    "## Decile"
   ]
  },
  {
   "cell_type": "code",
   "execution_count": 35,
   "metadata": {},
   "outputs": [],
   "source": [
    "#Decile is implemented on Validation dataset here ,implement it  on scoring dataset in real world scenario.\n",
    "#Just need to add Unique ID in Final Output."
   ]
  },
  {
   "cell_type": "code",
   "execution_count": 38,
   "metadata": {},
   "outputs": [],
   "source": [
    "def decile_func(X):\n",
    "    if      (X >= 0 and X <.10) : return '10'               \n",
    "    elif          (X >=.10 and X <.20): return '9'                   \n",
    "    elif         (X>=.20 and X <.30): return '8'                   \n",
    "    elif         (X>=.30 and X <.40): return '7'                    \n",
    "    elif         (X>=.40 and X <.50): return '6'                   \n",
    "    elif         (X>=.50 and X <.60): return '5'                    \n",
    "    elif         (X>=.60 and X <.70): return '4'                   \n",
    "    elif         (X>=.70 and X <.80): return '3'                   \n",
    "    elif         (X>=.80 and X <.90): return '2'                   \n",
    "    elif         (X>=.90 and X <=1): return '1'  \n",
    "    else : return 'NA'\n"
   ]
  },
  {
   "cell_type": "code",
   "execution_count": 50,
   "metadata": {},
   "outputs": [
    {
     "data": {
      "text/plain": [
       "array([0.8495533 , 0.9473635 , 0.09260315, ..., 0.8689887 , 0.8065908 ,\n",
       "       0.9602581 ], dtype=float32)"
      ]
     },
     "execution_count": 50,
     "metadata": {},
     "output_type": "execute_result"
    }
   ],
   "source": [
    "y_pred_val_proba[:,0]"
   ]
  },
  {
   "cell_type": "code",
   "execution_count": 56,
   "metadata": {},
   "outputs": [],
   "source": [
    "df_proba = pd.DataFrame(y_pred_val_proba[:,0] , columns = ['Probability'])"
   ]
  },
  {
   "cell_type": "code",
   "execution_count": 63,
   "metadata": {},
   "outputs": [
    {
     "data": {
      "text/html": [
       "<div>\n",
       "<style scoped>\n",
       "    .dataframe tbody tr th:only-of-type {\n",
       "        vertical-align: middle;\n",
       "    }\n",
       "\n",
       "    .dataframe tbody tr th {\n",
       "        vertical-align: top;\n",
       "    }\n",
       "\n",
       "    .dataframe thead th {\n",
       "        text-align: right;\n",
       "    }\n",
       "</style>\n",
       "<table border=\"1\" class=\"dataframe\">\n",
       "  <thead>\n",
       "    <tr style=\"text-align: right;\">\n",
       "      <th></th>\n",
       "      <th>Probability</th>\n",
       "      <th>Decile</th>\n",
       "    </tr>\n",
       "  </thead>\n",
       "  <tbody>\n",
       "    <tr>\n",
       "      <th>2461</th>\n",
       "      <td>0.980810</td>\n",
       "      <td>1</td>\n",
       "    </tr>\n",
       "    <tr>\n",
       "      <th>2462</th>\n",
       "      <td>0.905153</td>\n",
       "      <td>1</td>\n",
       "    </tr>\n",
       "    <tr>\n",
       "      <th>2463</th>\n",
       "      <td>0.868989</td>\n",
       "      <td>2</td>\n",
       "    </tr>\n",
       "    <tr>\n",
       "      <th>2464</th>\n",
       "      <td>0.806591</td>\n",
       "      <td>2</td>\n",
       "    </tr>\n",
       "    <tr>\n",
       "      <th>2465</th>\n",
       "      <td>0.960258</td>\n",
       "      <td>1</td>\n",
       "    </tr>\n",
       "  </tbody>\n",
       "</table>\n",
       "</div>"
      ],
      "text/plain": [
       "      Probability Decile\n",
       "2461     0.980810      1\n",
       "2462     0.905153      1\n",
       "2463     0.868989      2\n",
       "2464     0.806591      2\n",
       "2465     0.960258      1"
      ]
     },
     "execution_count": 63,
     "metadata": {},
     "output_type": "execute_result"
    }
   ],
   "source": [
    "df_proba.tail()\n"
   ]
  },
  {
   "cell_type": "code",
   "execution_count": 59,
   "metadata": {},
   "outputs": [],
   "source": [
    "#Apply Decile Function\n",
    "df_proba['Decile'] =  df_proba['Probability'].apply(decile_func)"
   ]
  },
  {
   "cell_type": "code",
   "execution_count": 60,
   "metadata": {},
   "outputs": [
    {
     "data": {
      "text/html": [
       "<div>\n",
       "<style scoped>\n",
       "    .dataframe tbody tr th:only-of-type {\n",
       "        vertical-align: middle;\n",
       "    }\n",
       "\n",
       "    .dataframe tbody tr th {\n",
       "        vertical-align: top;\n",
       "    }\n",
       "\n",
       "    .dataframe thead th {\n",
       "        text-align: right;\n",
       "    }\n",
       "</style>\n",
       "<table border=\"1\" class=\"dataframe\">\n",
       "  <thead>\n",
       "    <tr style=\"text-align: right;\">\n",
       "      <th></th>\n",
       "      <th>Probability</th>\n",
       "      <th>Decile</th>\n",
       "    </tr>\n",
       "  </thead>\n",
       "  <tbody>\n",
       "    <tr>\n",
       "      <th>0</th>\n",
       "      <td>0.849553</td>\n",
       "      <td>2</td>\n",
       "    </tr>\n",
       "    <tr>\n",
       "      <th>1</th>\n",
       "      <td>0.947363</td>\n",
       "      <td>1</td>\n",
       "    </tr>\n",
       "    <tr>\n",
       "      <th>2</th>\n",
       "      <td>0.092603</td>\n",
       "      <td>10</td>\n",
       "    </tr>\n",
       "    <tr>\n",
       "      <th>3</th>\n",
       "      <td>0.756996</td>\n",
       "      <td>3</td>\n",
       "    </tr>\n",
       "    <tr>\n",
       "      <th>4</th>\n",
       "      <td>0.815701</td>\n",
       "      <td>2</td>\n",
       "    </tr>\n",
       "    <tr>\n",
       "      <th>...</th>\n",
       "      <td>...</td>\n",
       "      <td>...</td>\n",
       "    </tr>\n",
       "    <tr>\n",
       "      <th>2461</th>\n",
       "      <td>0.980810</td>\n",
       "      <td>1</td>\n",
       "    </tr>\n",
       "    <tr>\n",
       "      <th>2462</th>\n",
       "      <td>0.905153</td>\n",
       "      <td>1</td>\n",
       "    </tr>\n",
       "    <tr>\n",
       "      <th>2463</th>\n",
       "      <td>0.868989</td>\n",
       "      <td>2</td>\n",
       "    </tr>\n",
       "    <tr>\n",
       "      <th>2464</th>\n",
       "      <td>0.806591</td>\n",
       "      <td>2</td>\n",
       "    </tr>\n",
       "    <tr>\n",
       "      <th>2465</th>\n",
       "      <td>0.960258</td>\n",
       "      <td>1</td>\n",
       "    </tr>\n",
       "  </tbody>\n",
       "</table>\n",
       "<p>2466 rows × 2 columns</p>\n",
       "</div>"
      ],
      "text/plain": [
       "      Probability Decile\n",
       "0        0.849553      2\n",
       "1        0.947363      1\n",
       "2        0.092603     10\n",
       "3        0.756996      3\n",
       "4        0.815701      2\n",
       "...           ...    ...\n",
       "2461     0.980810      1\n",
       "2462     0.905153      1\n",
       "2463     0.868989      2\n",
       "2464     0.806591      2\n",
       "2465     0.960258      1\n",
       "\n",
       "[2466 rows x 2 columns]"
      ]
     },
     "execution_count": 60,
     "metadata": {},
     "output_type": "execute_result"
    }
   ],
   "source": [
    "df_proba"
   ]
  },
  {
   "cell_type": "code",
   "execution_count": 62,
   "metadata": {},
   "outputs": [
    {
     "data": {
      "text/plain": [
       "1     1233\n",
       "2      377\n",
       "3      221\n",
       "9      136\n",
       "4      102\n",
       "8      100\n",
       "10      89\n",
       "7       84\n",
       "5       70\n",
       "6       54\n",
       "Name: Decile, dtype: int64"
      ]
     },
     "execution_count": 62,
     "metadata": {},
     "output_type": "execute_result"
    }
   ],
   "source": [
    "df_proba['Decile'].value_counts()"
   ]
  },
  {
   "cell_type": "code",
   "execution_count": 66,
   "metadata": {},
   "outputs": [
    {
     "data": {
      "text/plain": [
       "1      50.0%\n",
       "2     15.29%\n",
       "3      8.96%\n",
       "9      5.52%\n",
       "4      4.14%\n",
       "8      4.06%\n",
       "10     3.61%\n",
       "7      3.41%\n",
       "5      2.84%\n",
       "6      2.19%\n",
       "Name: Decile, dtype: object"
      ]
     },
     "execution_count": 66,
     "metadata": {},
     "output_type": "execute_result"
    }
   ],
   "source": [
    "df_proba['Decile'].value_counts(normalize=True).mul(100).round(2).astype('str') + '%'"
   ]
  },
  {
   "cell_type": "code",
   "execution_count": null,
   "metadata": {},
   "outputs": [],
   "source": []
  }
 ],
 "metadata": {
  "hide_input": false,
  "kernelspec": {
   "display_name": "Python 3",
   "language": "python",
   "name": "python3"
  },
  "language_info": {
   "codemirror_mode": {
    "name": "ipython",
    "version": 3
   },
   "file_extension": ".py",
   "mimetype": "text/x-python",
   "name": "python",
   "nbconvert_exporter": "python",
   "pygments_lexer": "ipython3",
   "version": "3.7.4"
  },
  "toc": {
   "base_numbering": 1,
   "nav_menu": {},
   "number_sections": true,
   "sideBar": true,
   "skip_h1_title": false,
   "title_cell": "Table of Contents",
   "title_sidebar": "Contents",
   "toc_cell": false,
   "toc_position": {},
   "toc_section_display": true,
   "toc_window_display": false
  },
  "varInspector": {
   "cols": {
    "lenName": 16,
    "lenType": 16,
    "lenVar": 40
   },
   "kernels_config": {
    "python": {
     "delete_cmd_postfix": "",
     "delete_cmd_prefix": "del ",
     "library": "var_list.py",
     "varRefreshCmd": "print(var_dic_list())"
    },
    "r": {
     "delete_cmd_postfix": ") ",
     "delete_cmd_prefix": "rm(",
     "library": "var_list.r",
     "varRefreshCmd": "cat(var_dic_list()) "
    }
   },
   "types_to_exclude": [
    "module",
    "function",
    "builtin_function_or_method",
    "instance",
    "_Feature"
   ],
   "window_display": false
  }
 },
 "nbformat": 4,
 "nbformat_minor": 2
}
